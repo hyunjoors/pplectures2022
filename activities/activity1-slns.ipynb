{
 "cells": [
  {
   "cell_type": "code",
   "execution_count": 1,
   "id": "PlL-lXZ7SAes",
   "metadata": {
    "colab": {
     "base_uri": "https://localhost:8080/"
    },
    "executionInfo": {
     "elapsed": 865,
     "status": "ok",
     "timestamp": 1662728288172,
     "user": {
      "displayName": "Ariel Lubonja",
      "userId": "07297793109314176501"
     },
     "user_tz": 240
    },
    "id": "PlL-lXZ7SAes",
    "outputId": "e338de5d-aedd-451f-ed4d-dde7de78c34b"
   },
   "outputs": [],
   "source": [
    "# from google.colab import drive\n",
    "# drive.mount('/content/drive')"
   ]
  },
  {
   "cell_type": "code",
   "execution_count": 2,
   "id": "oGZck7G_SMr-",
   "metadata": {
    "colab": {
     "base_uri": "https://localhost:8080/"
    },
    "executionInfo": {
     "elapsed": 15,
     "status": "ok",
     "timestamp": 1662728288172,
     "user": {
      "displayName": "Ariel Lubonja",
      "userId": "07297793109314176501"
     },
     "user_tz": 240
    },
    "id": "oGZck7G_SMr-",
    "outputId": "03d09cdc-135c-4993-c12a-5ac2f120a7f6"
   },
   "outputs": [],
   "source": [
    "# %cd /content/drive/MyDrive/Documents/Johns Hopkins University/Classes/Fall 2022/pplectures2022/activities"
   ]
  },
  {
   "cell_type": "markdown",
   "id": "1a67f85d-6cac-47aa-ab01-3bb1654d7099",
   "metadata": {
    "id": "1a67f85d-6cac-47aa-ab01-3bb1654d7099"
   },
   "source": [
    "###  Activity 1: All Possible Regressions\n",
    "\n",
    "This is a quick assignment.  I would expect it to only take a couple of hours to complete. The start of this notebook develops the example.  You will then parallelize the exammple using `joblib`. \n",
    "\n",
    "Run this on a machine that has at least 4 cores. Typically this is your laptop. The ugrad machines are also OK. Google Colab is not adequate. Fill out the requested cells toward the bottom of the notebook.\n",
    "\n",
    "**Due date**: September 16 1, 2022, 5:00 pm EDT.\n",
    "\n",
    "**Instructions for Submission**: Submit via Gradescope.\n",
    "\n",
    "#### Preparing the Environment\n",
    "\n",
    "You will need a couple of packages installed to make this work.  Stop your instance of jupyter lab and then run\n",
    "\n",
    "```\n",
    "conda install pandas pandoc\n",
    "jupyter lab\n",
    "```\n",
    "At this point, you should be ready to go.\n",
    "\n",
    "#### Example code\n",
    "\n",
    "This is a Python reimplementation of the Section 3.4. in _Matloff_, Parallel Computing for Data Science. It is based on data from https://www.kaggle.com/divan0/multiple-linear-regression. The notebook asks the question what combination of variables best predict the price of a house."
   ]
  },
  {
   "cell_type": "code",
   "execution_count": 5,
   "id": "a9525a93-0b4e-4a25-bf87-d4335132cffc",
   "metadata": {
    "colab": {
     "base_uri": "https://localhost:8080/",
     "height": 297
    },
    "executionInfo": {
     "elapsed": 189,
     "status": "ok",
     "timestamp": 1662728288354,
     "user": {
      "displayName": "Ariel Lubonja",
      "userId": "07297793109314176501"
     },
     "user_tz": 240
    },
    "id": "a9525a93-0b4e-4a25-bf87-d4335132cffc",
    "outputId": "964aa735-6a2e-44af-f7fc-68f09bb97d9d"
   },
   "outputs": [
    {
     "data": {
      "text/html": [
       "<div>\n",
       "<style scoped>\n",
       "    .dataframe tbody tr th:only-of-type {\n",
       "        vertical-align: middle;\n",
       "    }\n",
       "\n",
       "    .dataframe tbody tr th {\n",
       "        vertical-align: top;\n",
       "    }\n",
       "\n",
       "    .dataframe thead th {\n",
       "        text-align: right;\n",
       "    }\n",
       "</style>\n",
       "<table border=\"1\" class=\"dataframe\">\n",
       "  <thead>\n",
       "    <tr style=\"text-align: right;\">\n",
       "      <th></th>\n",
       "      <th>id</th>\n",
       "      <th>date</th>\n",
       "      <th>price</th>\n",
       "      <th>bedrooms</th>\n",
       "      <th>bathrooms</th>\n",
       "      <th>sqft_living</th>\n",
       "      <th>sqft_lot</th>\n",
       "      <th>floors</th>\n",
       "      <th>waterfront</th>\n",
       "      <th>view</th>\n",
       "      <th>...</th>\n",
       "      <th>grade</th>\n",
       "      <th>sqft_above</th>\n",
       "      <th>sqft_basement</th>\n",
       "      <th>yr_built</th>\n",
       "      <th>yr_renovated</th>\n",
       "      <th>zipcode</th>\n",
       "      <th>lat</th>\n",
       "      <th>long</th>\n",
       "      <th>sqft_living15</th>\n",
       "      <th>sqft_lot15</th>\n",
       "    </tr>\n",
       "  </thead>\n",
       "  <tbody>\n",
       "    <tr>\n",
       "      <th>0</th>\n",
       "      <td>7129300520</td>\n",
       "      <td>20141013T000000</td>\n",
       "      <td>221900.0</td>\n",
       "      <td>3</td>\n",
       "      <td>1.00</td>\n",
       "      <td>1180</td>\n",
       "      <td>5650</td>\n",
       "      <td>1.0</td>\n",
       "      <td>0</td>\n",
       "      <td>0</td>\n",
       "      <td>...</td>\n",
       "      <td>7</td>\n",
       "      <td>1180.0</td>\n",
       "      <td>0</td>\n",
       "      <td>1955</td>\n",
       "      <td>0</td>\n",
       "      <td>98178</td>\n",
       "      <td>47.5112</td>\n",
       "      <td>-122.257</td>\n",
       "      <td>1340</td>\n",
       "      <td>5650</td>\n",
       "    </tr>\n",
       "    <tr>\n",
       "      <th>1</th>\n",
       "      <td>6414100192</td>\n",
       "      <td>20141209T000000</td>\n",
       "      <td>538000.0</td>\n",
       "      <td>3</td>\n",
       "      <td>2.25</td>\n",
       "      <td>2570</td>\n",
       "      <td>7242</td>\n",
       "      <td>2.0</td>\n",
       "      <td>0</td>\n",
       "      <td>0</td>\n",
       "      <td>...</td>\n",
       "      <td>7</td>\n",
       "      <td>2170.0</td>\n",
       "      <td>400</td>\n",
       "      <td>1951</td>\n",
       "      <td>1991</td>\n",
       "      <td>98125</td>\n",
       "      <td>47.7210</td>\n",
       "      <td>-122.319</td>\n",
       "      <td>1690</td>\n",
       "      <td>7639</td>\n",
       "    </tr>\n",
       "    <tr>\n",
       "      <th>2</th>\n",
       "      <td>5631500400</td>\n",
       "      <td>20150225T000000</td>\n",
       "      <td>180000.0</td>\n",
       "      <td>2</td>\n",
       "      <td>1.00</td>\n",
       "      <td>770</td>\n",
       "      <td>10000</td>\n",
       "      <td>1.0</td>\n",
       "      <td>0</td>\n",
       "      <td>0</td>\n",
       "      <td>...</td>\n",
       "      <td>6</td>\n",
       "      <td>770.0</td>\n",
       "      <td>0</td>\n",
       "      <td>1933</td>\n",
       "      <td>0</td>\n",
       "      <td>98028</td>\n",
       "      <td>47.7379</td>\n",
       "      <td>-122.233</td>\n",
       "      <td>2720</td>\n",
       "      <td>8062</td>\n",
       "    </tr>\n",
       "    <tr>\n",
       "      <th>3</th>\n",
       "      <td>2487200875</td>\n",
       "      <td>20141209T000000</td>\n",
       "      <td>604000.0</td>\n",
       "      <td>4</td>\n",
       "      <td>3.00</td>\n",
       "      <td>1960</td>\n",
       "      <td>5000</td>\n",
       "      <td>1.0</td>\n",
       "      <td>0</td>\n",
       "      <td>0</td>\n",
       "      <td>...</td>\n",
       "      <td>7</td>\n",
       "      <td>1050.0</td>\n",
       "      <td>910</td>\n",
       "      <td>1965</td>\n",
       "      <td>0</td>\n",
       "      <td>98136</td>\n",
       "      <td>47.5208</td>\n",
       "      <td>-122.393</td>\n",
       "      <td>1360</td>\n",
       "      <td>5000</td>\n",
       "    </tr>\n",
       "    <tr>\n",
       "      <th>4</th>\n",
       "      <td>1954400510</td>\n",
       "      <td>20150218T000000</td>\n",
       "      <td>510000.0</td>\n",
       "      <td>3</td>\n",
       "      <td>2.00</td>\n",
       "      <td>1680</td>\n",
       "      <td>8080</td>\n",
       "      <td>1.0</td>\n",
       "      <td>0</td>\n",
       "      <td>0</td>\n",
       "      <td>...</td>\n",
       "      <td>8</td>\n",
       "      <td>1680.0</td>\n",
       "      <td>0</td>\n",
       "      <td>1987</td>\n",
       "      <td>0</td>\n",
       "      <td>98074</td>\n",
       "      <td>47.6168</td>\n",
       "      <td>-122.045</td>\n",
       "      <td>1800</td>\n",
       "      <td>7503</td>\n",
       "    </tr>\n",
       "  </tbody>\n",
       "</table>\n",
       "<p>5 rows × 21 columns</p>\n",
       "</div>"
      ],
      "text/plain": [
       "           id             date     price  bedrooms  bathrooms  sqft_living  \\\n",
       "0  7129300520  20141013T000000  221900.0         3       1.00         1180   \n",
       "1  6414100192  20141209T000000  538000.0         3       2.25         2570   \n",
       "2  5631500400  20150225T000000  180000.0         2       1.00          770   \n",
       "3  2487200875  20141209T000000  604000.0         4       3.00         1960   \n",
       "4  1954400510  20150218T000000  510000.0         3       2.00         1680   \n",
       "\n",
       "   sqft_lot  floors  waterfront  view  ...  grade  sqft_above  sqft_basement  \\\n",
       "0      5650     1.0           0     0  ...      7      1180.0              0   \n",
       "1      7242     2.0           0     0  ...      7      2170.0            400   \n",
       "2     10000     1.0           0     0  ...      6       770.0              0   \n",
       "3      5000     1.0           0     0  ...      7      1050.0            910   \n",
       "4      8080     1.0           0     0  ...      8      1680.0              0   \n",
       "\n",
       "   yr_built  yr_renovated  zipcode      lat     long  sqft_living15  \\\n",
       "0      1955             0    98178  47.5112 -122.257           1340   \n",
       "1      1951          1991    98125  47.7210 -122.319           1690   \n",
       "2      1933             0    98028  47.7379 -122.233           2720   \n",
       "3      1965             0    98136  47.5208 -122.393           1360   \n",
       "4      1987             0    98074  47.6168 -122.045           1800   \n",
       "\n",
       "   sqft_lot15  \n",
       "0        5650  \n",
       "1        7639  \n",
       "2        8062  \n",
       "3        5000  \n",
       "4        7503  \n",
       "\n",
       "[5 rows x 21 columns]"
      ]
     },
     "execution_count": 5,
     "metadata": {},
     "output_type": "execute_result"
    }
   ],
   "source": [
    "import numpy as np\n",
    "import matplotlib.pyplot as plt\n",
    "import pandas as pd\n",
    "\n",
    "%matplotlib inline\n",
    "\n",
    "#importing dataset using panda\n",
    "dataset = pd.read_csv('../data/kc_house_data.csv')\n",
    "#to see what my dataset is comprised of\n",
    "dataset.head()"
   ]
  },
  {
   "cell_type": "code",
   "execution_count": 6,
   "id": "06ad55ee-ba79-4673-b693-ebca04f1bb77",
   "metadata": {
    "executionInfo": {
     "elapsed": 12,
     "status": "ok",
     "timestamp": 1662728288355,
     "user": {
      "displayName": "Ariel Lubonja",
      "userId": "07297793109314176501"
     },
     "user_tz": 240
    },
    "id": "06ad55ee-ba79-4673-b693-ebca04f1bb77"
   },
   "outputs": [],
   "source": [
    "#dropping the id and date column\n",
    "dataset = dataset.drop(['id','date'], axis = 1)\n",
    "\n",
    "# clean out NaN and inf values\n",
    "dataset = dataset[~dataset.isin([np.nan, np.inf, -np.inf]).any(1)]"
   ]
  },
  {
   "cell_type": "markdown",
   "id": "f724288c-e17e-46a4-939b-c5ec0fc34a3b",
   "metadata": {
    "id": "f724288c-e17e-46a4-939b-c5ec0fc34a3b"
   },
   "source": [
    "Let's first do a simple regression. How does square footage predict price? "
   ]
  },
  {
   "cell_type": "code",
   "execution_count": 9,
   "id": "cbd8b494-d600-4bc9-9af7-15bef7796fb5",
   "metadata": {
    "colab": {
     "base_uri": "https://localhost:8080/"
    },
    "executionInfo": {
     "elapsed": 11,
     "status": "ok",
     "timestamp": 1662728288355,
     "user": {
      "displayName": "Ariel Lubonja",
      "userId": "07297793109314176501"
     },
     "user_tz": 240
    },
    "id": "cbd8b494-d600-4bc9-9af7-15bef7796fb5",
    "outputId": "a4e17bec-a217-4040-afda-6da033c91fa2"
   },
   "outputs": [
    {
     "name": "stdout",
     "output_type": "stream",
     "text": [
      "coefficient of determination: 0.4928817196006995\n"
     ]
    }
   ],
   "source": [
    "from sklearn.linear_model import LinearRegression\n",
    "\n",
    "X = np.array(dataset.sqft_living)\n",
    "Y = np.array(dataset.price)\n",
    "\n",
    "# shape X into matrix of a single column\n",
    "X = X.reshape((X.shape[0],1))\n",
    "\n",
    "model = LinearRegression()\n",
    "model.fit(X,Y)\n",
    "r_sq = model.score(X,Y)\n",
    "print('coefficient of determination:', r_sq)"
   ]
  },
  {
   "cell_type": "code",
   "execution_count": 10,
   "id": "97519567-fe0a-439e-a7e7-d97e4d56dea7",
   "metadata": {
    "colab": {
     "base_uri": "https://localhost:8080/",
     "height": 252
    },
    "executionInfo": {
     "elapsed": 306,
     "status": "ok",
     "timestamp": 1662728288656,
     "user": {
      "displayName": "Ariel Lubonja",
      "userId": "07297793109314176501"
     },
     "user_tz": 240
    },
    "id": "97519567-fe0a-439e-a7e7-d97e4d56dea7",
    "outputId": "84e441af-358e-4a99-f119-c004bb3f2e6f"
   },
   "outputs": [
    {
     "data": {
      "image/png": "[encoded data removed]",
      "text/plain": [
       "<Figure size 640x480 with 1 Axes>"
      ]
     },
     "metadata": {},
     "output_type": "display_data"
    }
   ],
   "source": [
    "%matplotlib inline\n",
    "import matplotlib.pyplot as plt\n",
    "\n",
    "# scatter data\n",
    "plt.plot(X,Y,'o')\n",
    "# best fit line\n",
    "y_pred = model.intercept_ + model.coef_ * X\n",
    "plt.plot(X, y_pred, color='red', linewidth=3)\n",
    "\n",
    "plt.xticks(())\n",
    "plt.yticks(())\n",
    "\n",
    "plt.show()"
   ]
  },
  {
   "cell_type": "markdown",
   "id": "c639cbb5-6bdd-4032-812a-5bf8e0174833",
   "metadata": {
    "id": "c639cbb5-6bdd-4032-812a-5bf8e0174833"
   },
   "source": [
    "We see that there is a strong correlation between square footage and house price.  The coefficient of determination measures the strength of the correlation and varies between 0 (no correlation) and 1.0 (perfectly correlated)."
   ]
  },
  {
   "cell_type": "markdown",
   "id": "0e2d9af2-3882-4c1d-9f58-038567ffd5ac",
   "metadata": {
    "id": "0e2d9af2-3882-4c1d-9f58-038567ffd5ac"
   },
   "source": [
    "### Multiple Linear Regression\n",
    "\n",
    "Adding more variables often improves the score."
   ]
  },
  {
   "cell_type": "code",
   "execution_count": 11,
   "id": "fccb721f-db9f-4c58-ad3b-d7ed629791a2",
   "metadata": {
    "colab": {
     "base_uri": "https://localhost:8080/"
    },
    "executionInfo": {
     "elapsed": 13,
     "status": "ok",
     "timestamp": 1662728288656,
     "user": {
      "displayName": "Ariel Lubonja",
      "userId": "07297793109314176501"
     },
     "user_tz": 240
    },
    "id": "fccb721f-db9f-4c58-ad3b-d7ed629791a2",
    "outputId": "c52967e5-7191-4b71-c3f7-ba4dbbcf5415"
   },
   "outputs": [
    {
     "name": "stdout",
     "output_type": "stream",
     "text": [
      "coefficient of determination: 0.5249639858277426\n"
     ]
    }
   ],
   "source": [
    "X = np.array(dataset[['sqft_living','condition','yr_built']])\n",
    "Y = np.array(dataset.price)\n",
    "\n",
    "# shape X into matrix of a single column\n",
    "X = X.reshape((X.shape[0],3))\n",
    "\n",
    "model = LinearRegression()\n",
    "model.fit(X,Y)\n",
    "r_sq = model.score(X,Y)\n",
    "print('coefficient of determination:', r_sq)"
   ]
  },
  {
   "cell_type": "markdown",
   "id": "e900ab88-873c-4290-9d99-723cef811c6d",
   "metadata": {
    "id": "e900ab88-873c-4290-9d99-723cef811c6d"
   },
   "source": [
    "but some variables are confounding"
   ]
  },
  {
   "cell_type": "code",
   "execution_count": 12,
   "id": "ff60bd53-6ebc-4f13-8c78-5e81992aebd4",
   "metadata": {
    "colab": {
     "base_uri": "https://localhost:8080/"
    },
    "executionInfo": {
     "elapsed": 159,
     "status": "ok",
     "timestamp": 1662728288806,
     "user": {
      "displayName": "Ariel Lubonja",
      "userId": "07297793109314176501"
     },
     "user_tz": 240
    },
    "id": "ff60bd53-6ebc-4f13-8c78-5e81992aebd4",
    "outputId": "6113e4b5-a4d1-44ca-9709-0d2d91fdd235"
   },
   "outputs": [
    {
     "name": "stdout",
     "output_type": "stream",
     "text": [
      "coefficient of determination: 0.1358874997770878\n"
     ]
    }
   ],
   "source": [
    "X = np.array(dataset[['zipcode','floors','waterfront']])\n",
    "Y = np.array(dataset.price)\n",
    "\n",
    "# shape X into matrix of a single column\n",
    "X = X.reshape((X.shape[0],3))\n",
    "\n",
    "model = LinearRegression()\n",
    "model.fit(X,Y)\n",
    "r_sq = model.score(X,Y)\n",
    "print('coefficient of determination:', r_sq)"
   ]
  },
  {
   "cell_type": "markdown",
   "id": "1d948a45-a861-423a-b2ce-8fcf1bf976c3",
   "metadata": {
    "id": "1d948a45-a861-423a-b2ce-8fcf1bf976c3"
   },
   "source": [
    "This leads to a first parallel program.  What are the right set of variables? A brute force approach called _All Possible Regressions_ examines all combinations. So, let's build a big matrix that and we will regress on subsets.  We will look at all combinations of 1, 2, or 3 variables."
   ]
  },
  {
   "cell_type": "code",
   "execution_count": 13,
   "id": "615005bd-f622-43a0-a844-c32f11e2676d",
   "metadata": {
    "executionInfo": {
     "elapsed": 4,
     "status": "ok",
     "timestamp": 1662728288806,
     "user": {
      "displayName": "Ariel Lubonja",
      "userId": "07297793109314176501"
     },
     "user_tz": 240
    },
    "id": "615005bd-f622-43a0-a844-c32f11e2676d"
   },
   "outputs": [],
   "source": [
    "from itertools import combinations, chain\n",
    "\n",
    "Y = np.array(dataset.price)\n",
    "X = np.array(dataset.drop(['price'], axis=1))\n",
    "\n",
    "## Let's choose all combinations of 1, 2, and 3 columns.\n",
    "col_idxs = np.array(range(X.shape[1]))\n",
    "combos = list(chain(combinations(col_idxs, 1), combinations(col_idxs, 2), combinations(col_idxs, 3)))"
   ]
  },
  {
   "cell_type": "code",
   "execution_count": 14,
   "id": "bc919ff9-24aa-4a9b-a4ee-efc84f8b51d9",
   "metadata": {
    "colab": {
     "base_uri": "https://localhost:8080/"
    },
    "executionInfo": {
     "elapsed": 3385,
     "status": "ok",
     "timestamp": 1662728292187,
     "user": {
      "displayName": "Ariel Lubonja",
      "userId": "07297793109314176501"
     },
     "user_tz": 240
    },
    "id": "bc919ff9-24aa-4a9b-a4ee-efc84f8b51d9",
    "outputId": "b99b992b-3288-4db3-f6b5-48111f05f68b"
   },
   "outputs": [
    {
     "name": "stdout",
     "output_type": "stream",
     "text": [
      "0.6095149101819037 (2, 6, 14)\n"
     ]
    }
   ],
   "source": [
    "model = LinearRegression()\n",
    "\n",
    "# do in a for loop (dumbest way)\n",
    "r_sq_best = 0.0\n",
    "for combo in combos:\n",
    "    Xp = X[:,combo]\n",
    "    model = model.fit(Xp,Y)\n",
    "    r_sq = model.score(Xp,Y)\n",
    "    if r_sq > r_sq_best:\n",
    "        r_sq_best = r_sq\n",
    "        combo_best = combo\n",
    "    \n",
    "print(r_sq_best, combo_best)"
   ]
  },
  {
   "cell_type": "markdown",
   "id": "603e45b6-80e4-4c6c-9a2f-1e8a728b1e5b",
   "metadata": {
    "id": "603e45b6-80e4-4c6c-9a2f-1e8a728b1e5b"
   },
   "source": [
    "The outcome is kind of crazy. The fields are `sqft-living`, `view`, and `latitude`. Latitude is probably a somewhat accurate proxy for wealth in this area, e.g. N of town richer than south of town. But, this is the kind of outcome that would not translate to other regions, i.e. is likely specific to this data.  _Neat_.\n",
    "\n",
    "Back to performance."
   ]
  },
  {
   "cell_type": "code",
   "execution_count": 15,
   "id": "0e8377d0-63a9-439c-be04-92d19f25e71c",
   "metadata": {
    "colab": {
     "base_uri": "https://localhost:8080/"
    },
    "executionInfo": {
     "elapsed": 28121,
     "status": "ok",
     "timestamp": 1662728320302,
     "user": {
      "displayName": "Ariel Lubonja",
      "userId": "07297793109314176501"
     },
     "user_tz": 240
    },
    "id": "0e8377d0-63a9-439c-be04-92d19f25e71c",
    "outputId": "3819e703-8e25-48e7-84ad-32824418890e"
   },
   "outputs": [
    {
     "name": "stdout",
     "output_type": "stream",
     "text": [
      "1.82 s ± 375 ms per loop (mean ± std. dev. of 7 runs, 1 loop each)\n"
     ]
    }
   ],
   "source": [
    "%%timeit\n",
    "model = LinearRegression()\n",
    "\n",
    "r_sq_best = 0.0\n",
    "for combo in combos:\n",
    "    Xp = X[:,combo]\n",
    "    model = model.fit(Xp,Y)\n",
    "    r_sq = model.score(Xp,Y)\n",
    "    if r_sq > r_sq_best:\n",
    "        r_sq_best = r_sq\n",
    "        combo_best = combo"
   ]
  },
  {
   "cell_type": "markdown",
   "id": "9f8f2fb1-6df7-4902-9e5a-ed4ccfc231a1",
   "metadata": {
    "id": "9f8f2fb1-6df7-4902-9e5a-ed4ccfc231a1"
   },
   "source": [
    "Let's see if flattening the loop matters. Replace for loop with a list comprehension of all combination of variables."
   ]
  },
  {
   "cell_type": "code",
   "execution_count": 16,
   "id": "7993f4bd-6331-42f5-b909-31c6f1b659cf",
   "metadata": {
    "executionInfo": {
     "elapsed": 12,
     "status": "ok",
     "timestamp": 1662728320303,
     "user": {
      "displayName": "Ariel Lubonja",
      "userId": "07297793109314176501"
     },
     "user_tz": 240
    },
    "id": "7993f4bd-6331-42f5-b909-31c6f1b659cf"
   },
   "outputs": [],
   "source": [
    "def r_sq_regression (combo):\n",
    "    Xp = X[:,combo]\n",
    "    model = LinearRegression()\n",
    "    model = model.fit(Xp,Y)\n",
    "    return model.score(Xp,Y)"
   ]
  },
  {
   "cell_type": "code",
   "execution_count": 17,
   "id": "96184a66-012a-4068-a462-677fcafb2ba7",
   "metadata": {
    "colab": {
     "base_uri": "https://localhost:8080/"
    },
    "executionInfo": {
     "elapsed": 3221,
     "status": "ok",
     "timestamp": 1662728323514,
     "user": {
      "displayName": "Ariel Lubonja",
      "userId": "07297793109314176501"
     },
     "user_tz": 240
    },
    "id": "96184a66-012a-4068-a462-677fcafb2ba7",
    "outputId": "03acfe36-1b71-483e-e875-df5f29e0b363"
   },
   "outputs": [
    {
     "name": "stdout",
     "output_type": "stream",
     "text": [
      "[(2, 6, 14) 0.6095149101819037]\n"
     ]
    }
   ],
   "source": [
    "r_sq_list = [ (combo, r_sq_regression(combo)) for combo in combos ]\n",
    "r_sq_arr = np.array(r_sq_list, dtype=object)\n",
    "r_sq_idx = np.argmax(r_sq_arr[:,1])\n",
    "print(r_sq_arr[r_sq_idx])"
   ]
  },
  {
   "cell_type": "code",
   "execution_count": 18,
   "id": "efbf14c0-c47c-4b51-aed3-cde5f1b9af7e",
   "metadata": {
    "colab": {
     "base_uri": "https://localhost:8080/"
    },
    "executionInfo": {
     "elapsed": 28000,
     "status": "ok",
     "timestamp": 1662728351508,
     "user": {
      "displayName": "Ariel Lubonja",
      "userId": "07297793109314176501"
     },
     "user_tz": 240
    },
    "id": "efbf14c0-c47c-4b51-aed3-cde5f1b9af7e",
    "outputId": "888e9ba5-d44d-4876-c22d-0774534b14ce"
   },
   "outputs": [
    {
     "name": "stdout",
     "output_type": "stream",
     "text": [
      "1.6 s ± 65.9 ms per loop (mean ± std. dev. of 7 runs, 1 loop each)\n"
     ]
    }
   ],
   "source": [
    "%%timeit\n",
    "r_sq_list = [ (combo, r_sq_regression(combo)) for combo in combos ]\n",
    "r_sq_arr = np.array(r_sq_list, dtype=object)\n",
    "r_sq_idx = np.argmax(r_sq_arr[:,1])"
   ]
  },
  {
   "cell_type": "markdown",
   "id": "e3298cb7-ab53-4a34-8442-883faa04a8ab",
   "metadata": {
    "id": "e3298cb7-ab53-4a34-8442-883faa04a8ab"
   },
   "source": [
    "It didn't seem to help. But, this is a step toward parallelization.\n",
    "\n",
    "### Exercise (This is the assignment)\n",
    "\n",
    "1. Use `joblib.Parallel` and `joblib.delayed` to parallelize the computation of the calls to `r_sq_regression`. \n",
    "    1. In one cell, print the answer to verify that your parallel program is correct.\n",
    "    2. In another cell time the computation. What is the speedup at `n_jobs=4`?\n",
    "    3. Estimate the Amdahl number for this computation. Show your work."
   ]
  },
  {
   "cell_type": "code",
   "execution_count": 19,
   "id": "d1194559-1102-4978-bc80-a4911dddf37f",
   "metadata": {
    "colab": {
     "base_uri": "https://localhost:8080/"
    },
    "executionInfo": {
     "elapsed": 2850,
     "status": "ok",
     "timestamp": 1662728354347,
     "user": {
      "displayName": "Ariel Lubonja",
      "userId": "07297793109314176501"
     },
     "user_tz": 240
    },
    "id": "d1194559-1102-4978-bc80-a4911dddf37f",
    "outputId": "24a2d0b1-ef11-4f52-8103-4976033437f6"
   },
   "outputs": [
    {
     "name": "stdout",
     "output_type": "stream",
     "text": [
      "0.6095149101819037\n",
      "(2, 6, 14)\n"
     ]
    }
   ],
   "source": [
    "# TODO code for 1A\n",
    "from joblib import Parallel, delayed\n",
    "r_sq_list = Parallel(n_jobs=4)(delayed(r_sq_regression)(combo) for combo in combos)\n",
    "print(np.max(r_sq_list))\n",
    "print(combos[np.argmax([r_sq_list])]) # Same results as serial code!"
   ]
  },
  {
   "cell_type": "code",
   "execution_count": 20,
   "id": "3643a3bb-383c-4da9-aa94-e2f35e9b67ad",
   "metadata": {
    "colab": {
     "base_uri": "https://localhost:8080/"
    },
    "executionInfo": {
     "elapsed": 19875,
     "status": "ok",
     "timestamp": 1662728374213,
     "user": {
      "displayName": "Ariel Lubonja",
      "userId": "07297793109314176501"
     },
     "user_tz": 240
    },
    "id": "3643a3bb-383c-4da9-aa94-e2f35e9b67ad",
    "outputId": "84bccfe3-3763-4bab-e3dd-653d9db3d0a5"
   },
   "outputs": [
    {
     "name": "stdout",
     "output_type": "stream",
     "text": [
      "650 ms ± 153 ms per loop (mean ± std. dev. of 7 runs, 1 loop each)\n"
     ]
    }
   ],
   "source": [
    "%%timeit \n",
    "# TODO code for 1B \n",
    "r_sq_list = Parallel(n_jobs=4)(delayed(r_sq_regression)(combo) for combo in combos) # Code to find argmax, make comparison more fair\n",
    "np.max(r_sq_list)\n",
    "combos[np.argmax([r_sq_list])]"
   ]
  },
  {
   "cell_type": "markdown",
   "id": "ed98d844-2cb4-4760-928d-bc2511399d9d",
   "metadata": {
    "id": "ed98d844-2cb4-4760-928d-bc2511399d9d"
   },
   "source": [
    "**TODO Answer for 1B**\n",
    "\n",
    "We see a 1600/650 = <font color=\"orange\">2.46x speedup</font> when running in parallel with n_jobs=4"
   ]
  },
  {
   "cell_type": "markdown",
   "id": "7b0097ed",
   "metadata": {
    "jp-MarkdownHeadingCollapsed": true,
    "tags": []
   },
   "source": [
    "### TODO 1C Amdahl's Number\n",
    "\n",
    "$$s_{\\text{latency}_s}=\\frac{1}{(1-p) + \\frac{p}{s}}$$\n",
    "\n",
    "$$2.46 = \\frac{1}{(1-p) + \\frac{p}{4}}$$\n",
    "\n",
    "\n",
    "$$\\frac{1}{2.46} = 1-.75p$$\n",
    "\n",
    "$$.75p = 1-\\frac{1}{2.46}$$\n",
    "\n",
    "$$.75p = .6$$\n",
    "\n",
    "$$p=0.8$$"
   ]
  },
  {
   "cell_type": "markdown",
   "id": "ec4d94a2-fb3d-4d04-a315-6c913e677fad",
   "metadata": {
    "id": "ec4d94a2-fb3d-4d04-a315-6c913e677fad",
    "tags": []
   },
   "source": [
    "2. Use the batch size parameter to vary the number of jobs in each batch from 1,2,...128 @ n_jobs=4. \n",
    "   1. Plot your results (use %timeit -o to capture output)\n",
    "   2. Model the problem as having two performance components: a fixed startup cost per batch ($C_B$) and perfect parallelism.  Estimate the batch startup cost (give a range).\n",
    "   3. Your answer to the batch startup costs should be noisy, i.e. there is not a consistent estimate for startup costs across all batch sizes. This indicates that a fixed startup cost per batch is not a good model. Consider other startup costs, such as skew, interference, and startup costs (per job). What do you think is a reasonable explanation for the inefficiency? What factors are possible?  Which factors can you eliminate?"
   ]
  },
  {
   "cell_type": "code",
   "execution_count": 21,
   "id": "0Up26CJgTRq8",
   "metadata": {
    "executionInfo": {
     "elapsed": 8,
     "status": "ok",
     "timestamp": 1662728374213,
     "user": {
      "displayName": "Ariel Lubonja",
      "userId": "07297793109314176501"
     },
     "user_tz": 240
    },
    "id": "0Up26CJgTRq8"
   },
   "outputs": [],
   "source": [
    "time=[]"
   ]
  },
  {
   "cell_type": "code",
   "execution_count": 22,
   "id": "0ebbd6e8-16ae-4a89-bed8-05f10bda3f17",
   "metadata": {
    "colab": {
     "base_uri": "https://localhost:8080/"
    },
    "executionInfo": {
     "elapsed": 45200,
     "status": "ok",
     "timestamp": 1662728419405,
     "user": {
      "displayName": "Ariel Lubonja",
      "userId": "07297793109314176501"
     },
     "user_tz": 240
    },
    "id": "0ebbd6e8-16ae-4a89-bed8-05f10bda3f17",
    "outputId": "2288e408-fa9e-4d69-9f0b-376eb16dc658"
   },
   "outputs": [
    {
     "name": "stdout",
     "output_type": "stream",
     "text": [
      "727 ms ± 17.9 ms per loop (mean ± std. dev. of 7 runs, 1 loop each)\n"
     ]
    },
    {
     "data": {
      "text/plain": [
       "<TimeitResult : 727 ms ± 17.9 ms per loop (mean ± std. dev. of 7 runs, 1 loop each)>"
      ]
     },
     "execution_count": 22,
     "metadata": {},
     "output_type": "execute_result"
    }
   ],
   "source": [
    "%%timeit -o\n",
    "# code for 2A\n",
    "r_sq_list = Parallel(n_jobs=4, batch_size=1)(delayed(r_sq_regression)(combo) for combo in combos)"
   ]
  },
  {
   "cell_type": "code",
   "execution_count": 23,
   "id": "qgvduwpbTZ--",
   "metadata": {
    "executionInfo": {
     "elapsed": 7,
     "status": "ok",
     "timestamp": 1662728419405,
     "user": {
      "displayName": "Ariel Lubonja",
      "userId": "07297793109314176501"
     },
     "user_tz": 240
    },
    "id": "qgvduwpbTZ--"
   },
   "outputs": [],
   "source": [
    "time.append(_)"
   ]
  },
  {
   "cell_type": "code",
   "execution_count": 24,
   "id": "0pBqv3LsTb3D",
   "metadata": {
    "colab": {
     "base_uri": "https://localhost:8080/"
    },
    "executionInfo": {
     "elapsed": 30445,
     "status": "ok",
     "timestamp": 1662728449844,
     "user": {
      "displayName": "Ariel Lubonja",
      "userId": "07297793109314176501"
     },
     "user_tz": 240
    },
    "id": "0pBqv3LsTb3D",
    "outputId": "3772bd4b-8233-406a-e4f9-5598cbcce6f5"
   },
   "outputs": [
    {
     "name": "stdout",
     "output_type": "stream",
     "text": [
      "681 ms ± 80.2 ms per loop (mean ± std. dev. of 7 runs, 1 loop each)\n"
     ]
    },
    {
     "data": {
      "text/plain": [
       "<TimeitResult : 681 ms ± 80.2 ms per loop (mean ± std. dev. of 7 runs, 1 loop each)>"
      ]
     },
     "execution_count": 24,
     "metadata": {},
     "output_type": "execute_result"
    }
   ],
   "source": [
    "%%timeit -o\n",
    "r_sq_list = Parallel(n_jobs=4, batch_size=2)(delayed(r_sq_regression)(combo) for combo in combos)"
   ]
  },
  {
   "cell_type": "code",
   "execution_count": 25,
   "id": "czA1wnGGTeAK",
   "metadata": {
    "executionInfo": {
     "elapsed": 7,
     "status": "ok",
     "timestamp": 1662728449845,
     "user": {
      "displayName": "Ariel Lubonja",
      "userId": "07297793109314176501"
     },
     "user_tz": 240
    },
    "id": "czA1wnGGTeAK"
   },
   "outputs": [],
   "source": [
    "time.append(_)"
   ]
  },
  {
   "cell_type": "code",
   "execution_count": 26,
   "id": "M32d7nMFTf22",
   "metadata": {
    "colab": {
     "base_uri": "https://localhost:8080/"
    },
    "executionInfo": {
     "elapsed": 26234,
     "status": "ok",
     "timestamp": 1662728476073,
     "user": {
      "displayName": "Ariel Lubonja",
      "userId": "07297793109314176501"
     },
     "user_tz": 240
    },
    "id": "M32d7nMFTf22",
    "outputId": "02c56d3b-5bb1-42e5-f82f-9a8fe1b77be0"
   },
   "outputs": [
    {
     "name": "stdout",
     "output_type": "stream",
     "text": [
      "665 ms ± 132 ms per loop (mean ± std. dev. of 7 runs, 1 loop each)\n"
     ]
    },
    {
     "data": {
      "text/plain": [
       "<TimeitResult : 665 ms ± 132 ms per loop (mean ± std. dev. of 7 runs, 1 loop each)>"
      ]
     },
     "execution_count": 26,
     "metadata": {},
     "output_type": "execute_result"
    }
   ],
   "source": [
    "%%timeit -o\n",
    "r_sq_list = Parallel(n_jobs=4, batch_size=4)(delayed(r_sq_regression)(combo) for combo in combos)"
   ]
  },
  {
   "cell_type": "code",
   "execution_count": 27,
   "id": "W_DOiV9bTjFh",
   "metadata": {
    "executionInfo": {
     "elapsed": 6,
     "status": "ok",
     "timestamp": 1662728476073,
     "user": {
      "displayName": "Ariel Lubonja",
      "userId": "07297793109314176501"
     },
     "user_tz": 240
    },
    "id": "W_DOiV9bTjFh"
   },
   "outputs": [],
   "source": [
    "time.append(_)"
   ]
  },
  {
   "cell_type": "code",
   "execution_count": 28,
   "id": "O_IaCnhfTkbd",
   "metadata": {
    "colab": {
     "base_uri": "https://localhost:8080/"
    },
    "executionInfo": {
     "elapsed": 21592,
     "status": "ok",
     "timestamp": 1662728497660,
     "user": {
      "displayName": "Ariel Lubonja",
      "userId": "07297793109314176501"
     },
     "user_tz": 240
    },
    "id": "O_IaCnhfTkbd",
    "outputId": "11166e78-da08-4c73-f1da-19f0c3fe1e56"
   },
   "outputs": [
    {
     "name": "stdout",
     "output_type": "stream",
     "text": [
      "568 ms ± 36.6 ms per loop (mean ± std. dev. of 7 runs, 1 loop each)\n"
     ]
    },
    {
     "data": {
      "text/plain": [
       "<TimeitResult : 568 ms ± 36.6 ms per loop (mean ± std. dev. of 7 runs, 1 loop each)>"
      ]
     },
     "execution_count": 28,
     "metadata": {},
     "output_type": "execute_result"
    }
   ],
   "source": [
    "%%timeit -o\n",
    "r_sq_list = Parallel(n_jobs=4, batch_size=8)(delayed(r_sq_regression)(combo) for combo in combos)"
   ]
  },
  {
   "cell_type": "code",
   "execution_count": 29,
   "id": "IiPG8FDKTneQ",
   "metadata": {
    "executionInfo": {
     "elapsed": 14,
     "status": "ok",
     "timestamp": 1662728497661,
     "user": {
      "displayName": "Ariel Lubonja",
      "userId": "07297793109314176501"
     },
     "user_tz": 240
    },
    "id": "IiPG8FDKTneQ"
   },
   "outputs": [],
   "source": [
    "time.append(_)"
   ]
  },
  {
   "cell_type": "code",
   "execution_count": 30,
   "id": "jWQB2JPAUaML",
   "metadata": {
    "colab": {
     "base_uri": "https://localhost:8080/"
    },
    "executionInfo": {
     "elapsed": 21425,
     "status": "ok",
     "timestamp": 1662728519074,
     "user": {
      "displayName": "Ariel Lubonja",
      "userId": "07297793109314176501"
     },
     "user_tz": 240
    },
    "id": "jWQB2JPAUaML",
    "outputId": "cca855a2-9ef6-47df-9f9c-7d949b9ec18a"
   },
   "outputs": [
    {
     "name": "stdout",
     "output_type": "stream",
     "text": [
      "535 ms ± 13.9 ms per loop (mean ± std. dev. of 7 runs, 1 loop each)\n"
     ]
    },
    {
     "data": {
      "text/plain": [
       "<TimeitResult : 535 ms ± 13.9 ms per loop (mean ± std. dev. of 7 runs, 1 loop each)>"
      ]
     },
     "execution_count": 30,
     "metadata": {},
     "output_type": "execute_result"
    }
   ],
   "source": [
    "%%timeit -o\n",
    "r_sq_list = Parallel(n_jobs=4, batch_size=16)(delayed(r_sq_regression)(combo) for combo in combos)"
   ]
  },
  {
   "cell_type": "code",
   "execution_count": 31,
   "id": "zNFMgAbeUdeT",
   "metadata": {
    "executionInfo": {
     "elapsed": 17,
     "status": "ok",
     "timestamp": 1662728519075,
     "user": {
      "displayName": "Ariel Lubonja",
      "userId": "07297793109314176501"
     },
     "user_tz": 240
    },
    "id": "zNFMgAbeUdeT"
   },
   "outputs": [],
   "source": [
    "time.append(_)"
   ]
  },
  {
   "cell_type": "code",
   "execution_count": 32,
   "id": "J1ltUNdiUepl",
   "metadata": {
    "colab": {
     "base_uri": "https://localhost:8080/"
    },
    "executionInfo": {
     "elapsed": 19078,
     "status": "ok",
     "timestamp": 1662728538144,
     "user": {
      "displayName": "Ariel Lubonja",
      "userId": "07297793109314176501"
     },
     "user_tz": 240
    },
    "id": "J1ltUNdiUepl",
    "outputId": "d88be209-7490-4af2-8f35-19f438e96028"
   },
   "outputs": [
    {
     "name": "stdout",
     "output_type": "stream",
     "text": [
      "596 ms ± 79 ms per loop (mean ± std. dev. of 7 runs, 1 loop each)\n"
     ]
    },
    {
     "data": {
      "text/plain": [
       "<TimeitResult : 596 ms ± 79 ms per loop (mean ± std. dev. of 7 runs, 1 loop each)>"
      ]
     },
     "execution_count": 32,
     "metadata": {},
     "output_type": "execute_result"
    }
   ],
   "source": [
    "%%timeit -o\n",
    "r_sq_list = Parallel(n_jobs=4, batch_size=32)(delayed(r_sq_regression)(combo) for combo in combos)"
   ]
  },
  {
   "cell_type": "code",
   "execution_count": 33,
   "id": "Cd4ZEzUVUhSw",
   "metadata": {
    "executionInfo": {
     "elapsed": 16,
     "status": "ok",
     "timestamp": 1662728538145,
     "user": {
      "displayName": "Ariel Lubonja",
      "userId": "07297793109314176501"
     },
     "user_tz": 240
    },
    "id": "Cd4ZEzUVUhSw"
   },
   "outputs": [],
   "source": [
    "time.append(_)"
   ]
  },
  {
   "cell_type": "code",
   "execution_count": 34,
   "id": "9gEV_0a9UjlO",
   "metadata": {
    "colab": {
     "base_uri": "https://localhost:8080/"
    },
    "executionInfo": {
     "elapsed": 18569,
     "status": "ok",
     "timestamp": 1662728556700,
     "user": {
      "displayName": "Ariel Lubonja",
      "userId": "07297793109314176501"
     },
     "user_tz": 240
    },
    "id": "9gEV_0a9UjlO",
    "outputId": "b5aaed8d-2aed-44a4-e323-123eaab37640"
   },
   "outputs": [
    {
     "name": "stdout",
     "output_type": "stream",
     "text": [
      "555 ms ± 41.4 ms per loop (mean ± std. dev. of 7 runs, 1 loop each)\n"
     ]
    },
    {
     "data": {
      "text/plain": [
       "<TimeitResult : 555 ms ± 41.4 ms per loop (mean ± std. dev. of 7 runs, 1 loop each)>"
      ]
     },
     "execution_count": 34,
     "metadata": {},
     "output_type": "execute_result"
    }
   ],
   "source": [
    "%%timeit -o \n",
    "r_sq_list = Parallel(n_jobs=4, batch_size=64)(delayed(r_sq_regression)(combo) for combo in combos)"
   ]
  },
  {
   "cell_type": "code",
   "execution_count": 35,
   "id": "ZKVE5YQLUqcS",
   "metadata": {
    "executionInfo": {
     "elapsed": 9,
     "status": "ok",
     "timestamp": 1662728556701,
     "user": {
      "displayName": "Ariel Lubonja",
      "userId": "07297793109314176501"
     },
     "user_tz": 240
    },
    "id": "ZKVE5YQLUqcS"
   },
   "outputs": [],
   "source": [
    "time.append(_)"
   ]
  },
  {
   "cell_type": "code",
   "execution_count": 36,
   "id": "xvwLOaX7Ur0K",
   "metadata": {
    "id": "xvwLOaX7Ur0K"
   },
   "outputs": [
    {
     "name": "stdout",
     "output_type": "stream",
     "text": [
      "533 ms ± 12.3 ms per loop (mean ± std. dev. of 7 runs, 1 loop each)\n"
     ]
    },
    {
     "data": {
      "text/plain": [
       "<TimeitResult : 533 ms ± 12.3 ms per loop (mean ± std. dev. of 7 runs, 1 loop each)>"
      ]
     },
     "execution_count": 36,
     "metadata": {},
     "output_type": "execute_result"
    }
   ],
   "source": [
    "%%timeit -o\n",
    "r_sq_list = Parallel(n_jobs=4, batch_size=128)(delayed(r_sq_regression)(combo) for combo in combos)"
   ]
  },
  {
   "cell_type": "code",
   "execution_count": 37,
   "id": "y0rQorieUyw-",
   "metadata": {
    "id": "y0rQorieUyw-"
   },
   "outputs": [],
   "source": [
    "time.append(_)"
   ]
  },
  {
   "cell_type": "code",
   "execution_count": 47,
   "id": "f3b5cf1b-4914-4294-8077-844c16e8aabc",
   "metadata": {
    "id": "f3b5cf1b-4914-4294-8077-844c16e8aabc"
   },
   "outputs": [
    {
     "data": {
      "text/plain": [
       "Text(0.5, 0, '2^x - log scale')"
      ]
     },
     "execution_count": 47,
     "metadata": {},
     "output_type": "execute_result"
    },
    {
     "data": {
      "image/png": "[encoded data removed]",
      "text/plain": [
       "<Figure size 640x480 with 1 Axes>"
      ]
     },
     "metadata": {},
     "output_type": "display_data"
    }
   ],
   "source": [
    "%matplotlib inline\n",
    "\n",
    "avg_times=[t.average for t in time]\n",
    "ticks = [1,2,4,8,16,32,64,128]\n",
    "x_vals = [np.log2(x) for x in ticks]\n",
    "dict_times = dict(zip(ticks,avg_times))\n",
    "plt.plot(x_vals,avg_times)\n",
    "plt.xticks(x_vals)\n",
    "plt.xlabel(\"2^x - log scale\")\n",
    "# TODO plot for 2A"
   ]
  },
  {
   "cell_type": "code",
   "execution_count": 39,
   "id": "HWrpnsp5VFvJ",
   "metadata": {
    "id": "HWrpnsp5VFvJ"
   },
   "outputs": [
    {
     "name": "stdout",
     "output_type": "stream",
     "text": [
      "987\n"
     ]
    }
   ],
   "source": [
    "print(len(combos))"
   ]
  },
  {
   "cell_type": "code",
   "execution_count": 48,
   "id": "f494b19b",
   "metadata": {},
   "outputs": [
    {
     "data": {
      "text/plain": [
       "{1: 0.7267218571443144,\n",
       " 2: 0.6812603808565265,\n",
       " 4: 0.6649969285697027,\n",
       " 8: 0.568015571714828,\n",
       " 16: 0.535081618998707,\n",
       " 32: 0.5963909760019825,\n",
       " 64: 0.5553671249997153,\n",
       " 128: 0.5328165477154211}"
      ]
     },
     "execution_count": 48,
     "metadata": {},
     "output_type": "execute_result"
    }
   ],
   "source": [
    "dict_times"
   ]
  },
  {
   "cell_type": "code",
   "execution_count": 49,
   "id": "a3b23ce8-19a3-4505-9904-f042ec73745e",
   "metadata": {
    "executionInfo": {
     "elapsed": 8,
     "status": "aborted",
     "timestamp": 1662727625191,
     "user": {
      "displayName": "Ariel Lubonja",
      "userId": "07297793109314176501"
     },
     "user_tz": 240
    },
    "id": "a3b23ce8-19a3-4505-9904-f042ec73745e"
   },
   "outputs": [
    {
     "name": "stdout",
     "output_type": "stream",
     "text": [
      "Startup cost per each element 1-2:  9.202727993479322e-05\n",
      "Startup cost per each element 2-4:  6.584393638390202e-05\n",
      "Startup cost per each element 4-8:  0.0007821077165715705\n",
      "Startup cost per each element 8-16:  0.0005311927857438868\n",
      "Startup cost per each element 16-32:  0.0019777211936540503\n",
      "Startup cost per each element 32-64:  0.0025639906876417026\n",
      "Startup cost per each element 64-128:  0.002818822160536777\n"
     ]
    }
   ],
   "source": [
    "# code for 2B\n",
    "startup_cost_1_2 = np.absolute(dict_times[2] - dict_times[1]) / (np.ceil(len(combos)/2))\n",
    "startup_cost_2_4 = np.absolute(dict_times[4] - dict_times[2]) / (np.ceil(len(combos)/4)) # See below for exp\n",
    "startup_cost_4_8 = np.absolute(dict_times[8] - dict_times[4]) / (np.ceil(len(combos)/8))\n",
    "startup_cost_8_16 = np.absolute(dict_times[16] - dict_times[8]) / (np.ceil(len(combos)/16))\n",
    "startup_cost_16_32 = np.absolute(dict_times[32] - dict_times[16]) / (np.ceil(len(combos)/32)) # See below for exp\n",
    "startup_cost_32_64 = np.absolute(dict_times[64] - dict_times[32]) / (np.ceil(len(combos)/64))\n",
    "startup_cost_64_128 = np.absolute(dict_times[128] - dict_times[64]) / (np.ceil(len(combos)/128))\n",
    "print(\"Startup cost per each element 1-2: \", startup_cost_1_2)\n",
    "print(\"Startup cost per each element 2-4: \", startup_cost_2_4)\n",
    "print(\"Startup cost per each element 4-8: \", startup_cost_4_8)\n",
    "print(\"Startup cost per each element 8-16: \", startup_cost_8_16)\n",
    "print(\"Startup cost per each element 16-32: \", startup_cost_16_32)\n",
    "print(\"Startup cost per each element 32-64: \", startup_cost_32_64)\n",
    "print(\"Startup cost per each element 64-128: \", startup_cost_64_128)"
   ]
  },
  {
   "cell_type": "markdown",
   "id": "9d662db6-2c99-45c2-a71b-a4482c454371",
   "metadata": {
    "id": "9d662db6-2c99-45c2-a71b-a4482c454371"
   },
   "source": [
    "**TODO Answer for 2B**\n",
    "\n",
    "I notice that the runtime decreases heavily until 64 batch_size, but then slightly goes up when switching to 128. I\n",
    "assume this trend reversal is because of startup cost. Hence, to calculate cost-per-element:\n",
    "\n",
    "$$\\frac{time(batch2^{i+1})-time(batch2^{i})}{num\\_batches}$$\n",
    "\n",
    "I have applied this formula to all batch sizes. Since we have 987 items in combos, then for 32-batch size, we'd have 31 batches ($\\ceil \\frac{987}{32}$)\n",
    "corresponding nr. batches to get the batch startup cost.\n",
    ".\n",
    "\n",
    "For 64: 16 batches.\n",
    "\n",
    "For 128: 8 batches. etc. We have to divide the time by the corresponding nr. batches to get Startup cost\n",
    "\n",
    "\n",
    "Range of batch startup cost: $[0.0005665 − 0.00188]$ seconds \n",
    "\n",
    "\n",
    "Our model says that there is a single thread/process that does all the startup work/do this fork-join (building the\n",
    "list in Delayed() that is handed to Parallel()), and that we'd have a linear cost wrt. the size of this list.\n",
    "\n",
    "This is not a good model, and the data doesn't fit it (see graph going up at 128, also our range being rather\n",
    "wide). Looking at output of cell above: cost decreases from 1-2, but then starts increasing again, and at the last\n",
    "point it jumps significantly. This is clearly not linear."
   ]
  },
  {
   "cell_type": "markdown",
   "id": "73259544-b3fa-4719-9a63-77a6c65f82ba",
   "metadata": {},
   "source": [
    "## TODO Answer for 2C\n",
    "\n",
    "Your answer to the batch startup costs should be noisy, i.e. there is not a consistent estimate for startup costs across all batch sizes. This indicates that a fixed startup cost per batch is not a good model. Consider other startup costs, such as skew, interference, and startup costs (per job). What do you think is a reasonable explanation for the inefficiency? What factors are possible?  Which factors can you eliminate?\n",
    "\n",
    "\n",
    "There are many possible answers to this problem. Here's mine:\n",
    "\n",
    "\n",
    "Startup: the startup cost would be splitting the regression task list (combos) & distriting those tasks to workers. This would be expected to increase as batch size increases\n",
    "\n",
    "\n",
    "Interference: This seems unlikely. Interference implies several workers competing for the same resource, e.g. many threads competing for the GIL in Python, or acquiring locks in order to write to memory (in a later lecture), or processes competing for limited memory bandwidth. Here, resources only read their own batches of data, and there is no write contention.\n",
    "\n",
    "\n",
    "Skew: Again, unlikely. Skew means there is a long-running worker(s), whose output you depend on. Here, each worker is given exactly the same batch size and should finish at roughly the same time. Although One of the last batches will be incomplete (987 items / 128 batch_size = 7.71), meaning 3 workers will have full 128-size batches, and one worker 91-size batch, this should be insignificant in the grand scheme of the whole computation"
   ]
  },
  {
   "cell_type": "markdown",
   "id": "57b3cb77-8d34-4eab-bc1a-09fd8266a07f",
   "metadata": {
    "id": "57b3cb77-8d34-4eab-bc1a-09fd8266a07f"
   },
   "source": [
    "3. Run the job with `prefer='threads'` and `prefer='processes'`. Given that `LinearRegression.fit()`\n",
    "    1. Which is more efficient?  Why? Consider our discussion of parallel threads in python.\n",
    "    2. Can you conclude that `LinearRegression.fit()` does or does not release the GIL? Explain.\n",
    "\n",
    "_Note_: you can verify this conclusion by calling `LinearRegression.fit()` directly, rather than call the wrapper functions `r_sq_regression`."
   ]
  },
  {
   "cell_type": "code",
   "execution_count": 50,
   "id": "192d3aed-d2c7-45c8-83bd-83462fdc24bb",
   "metadata": {
    "id": "192d3aed-d2c7-45c8-83bd-83462fdc24bb"
   },
   "outputs": [
    {
     "name": "stdout",
     "output_type": "stream",
     "text": [
      "3.89 s ± 201 ms per loop (mean ± std. dev. of 7 runs, 1 loop each)\n"
     ]
    }
   ],
   "source": [
    "%%timeit\n",
    "# Code for 3\n",
    "r_sq_list = Parallel(n_jobs=4, prefer='threads')(delayed(r_sq_regression)(combo) for combo in combos)"
   ]
  },
  {
   "cell_type": "code",
   "execution_count": 51,
   "id": "AkTzNqclVXQ_",
   "metadata": {
    "id": "AkTzNqclVXQ_"
   },
   "outputs": [
    {
     "name": "stdout",
     "output_type": "stream",
     "text": [
      "716 ms ± 154 ms per loop (mean ± std. dev. of 7 runs, 1 loop each)\n"
     ]
    }
   ],
   "source": [
    "%%timeit\n",
    "r_sq_list = Parallel(n_jobs=4, prefer='processes')(delayed(r_sq_regression)(combo) for combo in combos)"
   ]
  },
  {
   "cell_type": "markdown",
   "id": "quOxiBpEVYKK",
   "metadata": {
    "id": "quOxiBpEVYKK"
   },
   "source": [
    "## Running LinReg.fit manually"
   ]
  },
  {
   "cell_type": "code",
   "execution_count": 53,
   "id": "cg_GPXhIVZXg",
   "metadata": {
    "id": "cg_GPXhIVZXg"
   },
   "outputs": [],
   "source": [
    "#IwasgettingweirdresultscallingLinearRegression.fit()manually,soIusedthissuggestionfromPiazza # https://piazza.com/class/ksxhsr5ejw83dj?cid=72\n",
    "from joblib import Parallel, delayed\n",
    "def r_sq_regression_no_score (combo):\n",
    "    Xp = X[:,combo]\n",
    "    model = LinearRegression()\n",
    "    model = model.fit(Xp,Y)\n",
    "    return #model.score(Xp,Y)"
   ]
  },
  {
   "cell_type": "code",
   "execution_count": 56,
   "id": "Zv9X0p7aVcxO",
   "metadata": {
    "id": "Zv9X0p7aVcxO"
   },
   "outputs": [
    {
     "name": "stdout",
     "output_type": "stream",
     "text": [
      "1 s ± 16.8 ms per loop (mean ± std. dev. of 7 runs, 1 loop each)\n"
     ]
    }
   ],
   "source": [
    "%%timeit\n",
    "r_sq_list = Parallel(n_jobs=4, prefer='threads')(delayed(r_sq_regression_no_score)(combo) for combo in combos)"
   ]
  },
  {
   "cell_type": "code",
   "execution_count": 59,
   "id": "RKWC5xT-Vhno",
   "metadata": {
    "id": "RKWC5xT-Vhno"
   },
   "outputs": [
    {
     "name": "stdout",
     "output_type": "stream",
     "text": [
      "472 ms ± 8.43 ms per loop (mean ± std. dev. of 7 runs, 1 loop each)\n"
     ]
    }
   ],
   "source": [
    "%%timeit\n",
    "r_sq_list = Parallel(n_jobs=4, prefer='processes')(delayed(r_sq_regression_no_score)(combo) for combo in combos)"
   ]
  },
  {
   "cell_type": "markdown",
   "id": "3b831431-437f-48e8-b24c-3952a8ab2ebf",
   "metadata": {
    "id": "3b831431-437f-48e8-b24c-3952a8ab2ebf"
   },
   "source": [
    "**TODO Answer to 3**\n",
    "\n",
    "<font color=\"orange\">a) Which is more efficient?</font>\n",
    "\n",
    "The results show that Processes are more efficent than threads (about 2x in my case). This happens because processes each have their own separate Python runtime, and therefore their own GIL, whereas threads have to compete for the same GIL.\n",
    "\n",
    "<font color=\"orange\">b) What can you conclude about the GIL?</font>\n",
    "\n",
    "Reading from the joblib User Guide:\n",
    "\"When you know that the function you are calling is based on a compiled extension that releases the Python Global Interpreter Lock (GIL) during most of its computation then it is more efficient to use threads instead of Python processes as concurrent workers. For instance this is the case if you write the CPU intensive part of your code inside a with nogil block of a Cython function.\"\n",
    "\n",
    "Since the results show us that Processes is significantly faster, that would suggest that the implementation of LinearRegression.fit() does not release the GIL, making the threads have to compete for it, and therefore the threads backend is slower. We can confirm results stay consistent when calling the stripped-down r_sq_regression()"
   ]
  },
  {
   "cell_type": "code",
   "execution_count": null,
   "id": "23e2c81e-aa2d-487e-bbce-f5c48ab45b0c",
   "metadata": {
    "executionInfo": {
     "elapsed": 8,
     "status": "aborted",
     "timestamp": 1662727625192,
     "user": {
      "displayName": "Ariel Lubonja",
      "userId": "07297793109314176501"
     },
     "user_tz": 240
    },
    "id": "23e2c81e-aa2d-487e-bbce-f5c48ab45b0c"
   },
   "outputs": [],
   "source": []
  }
 ],
 "metadata": {
  "colab": {
   "collapsed_sections": [],
   "provenance": []
  },
  "kernelspec": {
   "display_name": "Python 3 (ipykernel)",
   "language": "python",
   "name": "python3"
  },
  "language_info": {
   "codemirror_mode": {
    "name": "ipython",
    "version": 3
   },
   "file_extension": ".py",
   "mimetype": "text/x-python",
   "name": "python",
   "nbconvert_exporter": "python",
   "pygments_lexer": "ipython3",
   "version": "3.10.6"
  }
 },
 "nbformat": 4,
 "nbformat_minor": 5
}
